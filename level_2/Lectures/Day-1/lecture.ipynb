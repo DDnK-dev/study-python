{
 "cells": [
  {
   "metadata": {},
   "cell_type": "markdown",
   "source": [
    "# Day 1 - 강사 소개 및 수업 방향성 설정\n",
    "---\n",
    "\n",
    "## 개요\n",
    " \n",
    "### 강사 소개\n",
    "\n",
    "- **이름** : 김동우 (광운대 컴퓨터공학과 졸업, 2013-2020)\n",
    "- **주력 언어**: Golang, Python\n",
    "- **주요 기술**: Docker, Kubernetes, Kafka, Ansible, Linux\n",
    "- **주요 직무**: 클라우드 네이티브 어플리케이션 개발, DevOps\n",
    "- **주 파이썬 사용처**: Infra / Platform 자동화, 프로토타입 프로젝트 개발\n",
    "\n",
    "### 수업 목표\n",
    "\n",
    "- 수강자가 원하는대로 최대한 맞추는 걸로\n",
    "- Python 기본 강의 혹은 Python으로 자료구조를 구현하는 것을 고려중\n",
    "\n",
    "### 수업 내용\n",
    "\n",
    "**수업 준비 단계**\n",
    "- Git\n",
    "\n",
    "**기초 내용**\n",
    "- 파이썬 기초 자료형과 변수 (숫자, 텍스트, List, Tuple, Dictionary, Set...)\n",
    "- 흐름제어 (if, for, while)\n",
    "- 함수\n",
    "- 클래스\n",
    "- 모듈, 패키지\n",
    "- 파일 입출력\n",
    "\n",
    "**심화 내용**\n",
    "- 클래스&메소드 심화\n",
    "- 매직 메소드\n",
    "- 일급 함수 (클로저, 데코레이터)\n",
    "- 파이썬 병행성 (코루틴, Futures)\n",
    "\n",
    "### 개발 환경\n",
    "\n",
    "- 통합 개발 환경(IDE):Pycharm Community Edition (https://www.jetbrains.com/pycharm/download/?section=windows)\n",
    "![pycharm](img/0.pycharm.png)\n",
    "- 소스 코드 관리 : Git ([https://git-scm.com/downloads](https://git-scm.com/downloads))\n",
    "\n",
    "---\n",
    "\n",
    "## 레벨 확인 단계\n",
    "\n",
    "**실습 문제**\n",
    "- if 복습 : [https://school.programmers.co.kr/learn/courses/30/lessons/120829](https://school.programmers.co.kr/learn/courses/30/lessons/120829)\n",
    "- for 복습 : [https://school.programmers.co.kr/learn/courses/30/lessons/120910](https://school.programmers.co.kr/learn/courses/30/lessons/120910)\n",
    "- list 복습 : [https://school.programmers.co.kr/learn/courses/30/lessons/181879](https://school.programmers.co.kr/learn/courses/30/lessons/181879)\n",
    "- 아래 표를 딕셔너리로 구성하라\n",
    "\n",
    "|이름|희망가격|\n",
    "|---|------|\n",
    "|메로나|1000|\n",
    "|폴라포|1200|\n",
    "|빵빠레|1800|\n",
    "\n",
    "- 입력된 문자열을 역순으로 출력하는 `print_reverse` 함수를 작성하라 (힌트: 슬라이싱 활용)\n"
   ],
   "id": "2bec9c79886f3497"
  },
  {
   "metadata": {},
   "cell_type": "code",
   "outputs": [],
   "execution_count": null,
   "source": [
    "if __name__ == '__main__':\n",
    "    print_reverse(\"python\")"
   ],
   "id": "73aea5bd0b1673c3"
  }
 ],
 "metadata": {
  "kernelspec": {
   "display_name": "Python 3",
   "language": "python",
   "name": "python3"
  },
  "language_info": {
   "codemirror_mode": {
    "name": "ipython",
    "version": 2
   },
   "file_extension": ".py",
   "mimetype": "text/x-python",
   "name": "python",
   "nbconvert_exporter": "python",
   "pygments_lexer": "ipython2",
   "version": "2.7.6"
  }
 },
 "nbformat": 4,
 "nbformat_minor": 5
}
